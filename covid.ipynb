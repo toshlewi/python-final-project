# %% [markdown]
# # 🦠 COVID-19 Global Data Tracker
# A comprehensive analysis of global COVID-19 trends and vaccination progress.

# %%
import pandas as pd
import numpy as np
import matplotlib.pyplot as plt
import seaborn as sns
import plotly.express as px
from datetime import datetime
import warnings
warnings.filterwarnings('ignore')

# %%
# Plotting and display settings
plt.style.use('seaborn-v0_8-whitegrid')
sns.set_palette('viridis')
pd.set_option('display.max_columns', None)
pd.set_option('display.width', 1000)

print("COVID-19 Global Data Tracker")
print("============================")
print("This notebook analyzes global COVID-19 trends including cases, deaths, and vaccinations.")

# %% [markdown]
# ## 1. Data Collection & Loading

# %%
url = "https://covid.ourworldindata.org/data/owid-covid-data.csv"
print(f"Downloading data from: {url}")

try:
    df = pd.read_csv(url)
    print("✅ Data loaded successfully!")
except Exception as e:
    print(f"Error: {e}")
    print("Attempting to load from local file...")
    try:
        df = pd.read_csv("owid-covid-data.csv")
        print("✅ Loaded from local file.")
    except:
        print("❌ Could not load data.")

# %% [markdown]
# ## 2. Data Exploration

# %%
print(f"Dataset shape: {df.shape}")
print(f"Time period: {df['date'].min()} to {df['date'].max()}")
print(f"Number of locations: {df['location'].nunique()}")

print("\nFirst 5 rows:")
print(df.head())

print("\nColumns:")
print(df.columns.tolist())

key_metrics = ['total_cases', 'new_cases', 'total_deaths', 'new_deaths',
               'total_vaccinations', 'people_vaccinated', 'people_fully_vaccinated']
print("\nSummary statistics:")
print(df[key_metrics].describe())

print("\nMissing values:")
missing_df = pd.DataFrame({
    'Missing Values': df[key_metrics].isnull().sum(),
    'Percentage': (df[key_metrics].isnull().sum() / len(df) * 100).round(2)
})
print(missing_df)

# %% [markdown]
# ## 3. Data Cleaning

# %%
df['date'] = pd.to_datetime(df['date'])

countries_of_interest = ['World', 'United States', 'India', 'Brazil', 'United Kingdom',
                         'South Africa', 'Kenya', 'Australia', 'China', 'Germany']

filtered_df = df[df['location'].isin(countries_of_interest)].copy()

latest_data = df.groupby('location').last().reset_index()
latest_data = latest_data.sort_values('total_cases', ascending=False)

print("Top 10 countries by total cases:")
print(latest_data[['location', 'total_cases', 'total_deaths']].head(10))

# Add calculated fields with safety checks
filtered_df['case_fatality_rate'] = np.where(
    filtered_df['total_cases'] > 0,
    (filtered_df['total_deaths'] / filtered_df['total_cases']) * 100,
    np.nan
)

filtered_df['vaccination_rate'] = np.where(
    filtered_df['population'] > 0,
    (filtered_df['people_fully_vaccinated'] / filtered_df['population']) * 100,
    np.nan
)

# %% [markdown]
# ## 4. Exploratory Data Analysis (EDA)

# %%
plt.figure(figsize=(14, 8))
for country in countries_of_interest:
    data = filtered_df[filtered_df['location'] == country]
    plt.plot(data['date'], data['total_cases'], label=country)

plt.title('Total COVID-19 Cases Over Time')
plt.xlabel('Date'); plt.ylabel('Total Cases')
plt.legend(); plt.xticks(rotation=45); plt.tight_layout()
plt.show()

# %%
plt.figure(figsize=(14, 8))
for country in countries_of_interest:
    data = filtered_df[filtered_df['location'] == country]
    plt.plot(data['date'], data['total_deaths'], label=country)

plt.title('Total COVID-19 Deaths Over Time')
plt.xlabel('Date'); plt.ylabel('Total Deaths')
plt.legend(); plt.xticks(rotation=45); plt.tight_layout()
plt.show()

# %%
plt.figure(figsize=(14, 8))
for country in countries_of_interest:
    data = filtered_df[filtered_df['location'] == country]
    plt.plot(data['date'], data['case_fatality_rate'], label=country)

plt.title('Case Fatality Rate (%) Over Time')
plt.xlabel('Date'); plt.ylabel('CFR (%)')
plt.legend(); plt.xticks(rotation=45); plt.tight_layout()
plt.show()

# %%
plt.figure(figsize=(14, 8))
for country in countries_of_interest:
    data = filtered_df[filtered_df['location'] == country]
    data['new_cases_smooth'] = data['new_cases'].rolling(7).mean()
    plt.plot(data['date'], data['new_cases_smooth'], label=country)

plt.title('Daily New Cases (7-day Avg)')
plt.xlabel('Date'); plt.ylabel('New Cases')
plt.legend(); plt.xticks(rotation=45); plt.tight_layout()
plt.show()

# %%
top_countries = latest_data.head(10)
plt.figure(figsize=(12, 8))
sns.barplot(x='total_cases', y='location', data=top_countries)
plt.title('Top 10 Countries by Total COVID-19 Cases')
plt.tight_layout()
plt.show()

# %% [markdown]
# ## 5. Vaccination Progress Analysis

# %%
plt.figure(figsize=(14, 8))
for country in countries_of_interest:
    data = filtered_df[filtered_df['location'] == country]
    plt.plot(data['date'], data['people_vaccinated'], label=country)

plt.title('Cumulative Vaccinations Over Time')
plt.xlabel('Date'); plt.ylabel('People Vaccinated')
plt.legend(); plt.xticks(rotation=45); plt.tight_layout()
plt.show()

# %%
plt.figure(figsize=(14, 8))
for country in countries_of_interest:
    data = filtered_df[filtered_df['location'] == country]
    plt.plot(data['date'], data['vaccination_rate'], label=country)

plt.title('Vaccination Rate Over Time')
plt.xlabel('Date'); plt.ylabel('Rate (% of Population)')
plt.legend(); plt.xticks(rotation=45); plt.tight_layout()
plt.show()

# %%
latest_data = filtered_df.groupby('location').last().reset_index()
latest_data = latest_data.sort_values('vaccination_rate', ascending=False)

plt.figure(figsize=(12, 8))
sns.barplot(x='vaccination_rate', y='location', data=latest_data)
plt.title('Latest Vaccination Rates by Country')
plt.tight_layout()
plt.show()

# %%
correlation_metrics = ['total_cases', 'total_deaths', 'total_vaccinations',
                       'people_vaccinated', 'people_fully_vaccinated', 'population']
corr = filtered_df[correlation_metrics].corr()
print(corr)

plt.figure(figsize=(10, 8))
sns.heatmap(corr, annot=True, cmap='coolwarm', fmt='.2f')
plt.title('Correlation Heatmap')
plt.tight_layout()
plt.show()

# %% [markdown]
# ## 6. Choropleth Map Visualization

# %%
latest_date = df['date'].max()
map_data = df[df['date'] == latest_date]

try:
    fig = px.choropleth(map_data,
                        locations="iso_code",
                        color="total_cases",
                        hover_name="location",
                        color_continuous_scale=px.colors.sequential.Plasma,
                        title=f"Total Cases as of {latest_date.date()}")
    fig.show()
except Exception as e:
    print("Error:", e)

# %%
try:
    map_data['vax_rate'] = (map_data['people_fully_vaccinated'] / map_data['population']) * 100
    fig = px.choropleth(map_data,
                        locations="iso_code",
                        color="vax_rate",
                        hover_name="location",
                        color_continuous_scale=px.colors.sequential.Viridis,
                        title=f"Vaccination Rate as of {latest_date.date()}")
    fig.show()
except Exception as e:
    print("Error:", e)

# %% [markdown]
# ## 7. Insights & Reporting

# %%
world_data = df[df['location'] == 'World'].sort_values('date')
latest_world = world_data.iloc[-1]

print(f"Global Statistics as of {latest_world['date'].date()}:")
print(f"- Total Cases: {latest_world['total_cases']:,.0f}")
print(f"- Total Deaths: {latest_world['total_deaths']:,.0f}")
print(f"- Global CFR: {latest_world['total_deaths']/latest_world['total_cases']*100:.2f}%")

if not pd.isna(latest_world['people_fully_vaccinated']):
    print(f"- Fully Vaccinated: {latest_world['people_fully_vaccinated']:,.0f}")
    print(f"- Vaccination Rate: {latest_world['people_fully_vaccinated']/latest_world['population']*100:.2f}%")

highest_cfr = latest_data.sort_values('case_fatality_rate', ascending=False).iloc[0]
highest_vax = latest_data.sort_values('vaccination_rate', ascending=False).iloc[0]

print(f"\nHighest CFR: {highest_cfr['location']} ({highest_cfr['case_fatality_rate']:.2f}%)")
print(f"Highest Vaccination Rate: {highest_vax['location']} ({highest_vax['vaccination_rate']:.2f}%)")

recent_world = world_data.iloc[-30:]
recent_world['growth_rate'] = recent_world['new_cases'].pct_change()
avg_growth = recent_world['growth_rate'].mean() * 100
print(f"Avg Global Case Growth Rate (30 days): {avg_growth:.2f}%")

# %% [markdown]
# ### ✅ Key Insights
# 1. Over 600M global cases, with severe country disparities.
# 2. Vaccination rates are high in developed nations but uneven globally.
# 3. CFR has declined with vaccines and better treatments.
# 4. Population size correlates strongly with case totals.
# 5. COVID-19 followed wave-like surges by geography.
#
# ### 📌 Conclusion
# - Vaccination is critical in reducing severity and deaths.
# - Continued global collaboration is essential.
# - Future studies can focus on vaccine efficacy vs. case/death trends.
