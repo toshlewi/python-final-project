{
 "cells": [
  {
   "cell_type": "markdown",
   "id": "b2b6e260",
   "metadata": {},
   "source": [
    "# 🦠 COVID-19 Global Data Tracker\n",
    "A comprehensive analysis of global COVID-19 trends and vaccination progress."
   ]
  },
  {
   "cell_type": "code",
   "execution_count": null,
   "id": "c9b7e8a3",
   "metadata": {},
   "outputs": [],
   "source": [
    "import pandas as pd\n",
    "import numpy as np\n",
    "import matplotlib.pyplot as plt\n",
    "import seaborn as sns\n",
    "import plotly.express as px\n",
    "from datetime import datetime\n",
    "import warnings\n",
    "warnings.filterwarnings('ignore')\n",
    "\n",
    "# Plotting and display settings\n",
    "plt.style.use('seaborn-v0_8-whitegrid')\n",
    "sns.set_palette('viridis')\n",
    "pd.set_option('display.max_columns', None)\n",
    "pd.set_option('display.width', 1000)\n",
    "\n",
    "print(\"COVID-19 Global Data Tracker\")\n",
    "print(\"============================\")\n",
    "print(\"This notebook analyzes global COVID-19 trends including cases, deaths, and vaccinations.\")"
   ]
  },
  {
   "cell_type": "markdown",
   "id": "0cd52875",
   "metadata": {},
   "source": [
    "## 1. Data Collection & Loading"
   ]
  },
  {
   "cell_type": "code",
   "execution_count": null,
   "id": "c6d32e21",
   "metadata": {},
   "outputs": [],
   "source": [
    "url = \"https://covid.ourworldindata.org/data/owid-covid-data.csv\"\n",
    "print(f\"Downloading data from: {url}\")\n",
    "\n",
    "try:\n",
    "    df = pd.read_csv(url)\n",
    "    print(\"✅ Data loaded successfully!\")\n",
    "except Exception as e:\n",
    "    print(f\"Error: {e}\")\n",
    "    print(\"Attempting to load from local file...\")\n",
    "    try:\n",
    "        df = pd.read_csv(\"owid-covid-data.csv\")\n",
    "        print(\"✅ Loaded from local file.\")\n",
    "    except:\n",
    "        print(\"❌ Could not load data.\")"
   ]
  },
  {
   "cell_type": "markdown",
   "id": "bbd86915",
   "metadata": {},
   "source": [
    "## 2. Data Exploration"
   ]
  },
  {
   "cell_type": "code",
   "execution_count": null,
   "id": "200895ff",
   "metadata": {},
   "outputs": [],
   "source": [
    "print(f\"Dataset shape: {df.shape}\")\n",
    "print(f\"Time period: {df['date'].min()} to {df['date'].max()}\")\n",
    "print(f\"Number of locations: {df['location'].nunique()}\")\n",
    "\n",
    "df.head()"
   ]
  },
  {
   "cell_type": "code",
   "execution_count": null,
   "id": "03fac632",
   "metadata": {},
   "outputs": [],
   "source": [
    "print(\"\\nColumns:\")\n",
    "print(df.columns.tolist())\n",
    "\n",
    "key_metrics = ['total_cases', 'new_cases', 'total_deaths', 'new_deaths',\n",
    "               'total_vaccinations', 'people_vaccinated', 'people_fully_vaccinated']\n",
    "\n",
    "df[key_metrics].describe()"
   ]
  },
  {
   "cell_type": "code",
   "execution_count": null,
   "id": "7b4dd368",
   "metadata": {},
   "outputs": [],
   "source": [
    "missing_df = pd.DataFrame({\n",
    "    'Missing Values': df[key_metrics].isnull().sum(),\n",
    "    'Percentage': (df[key_metrics].isnull().sum() / len(df) * 100).round(2)\n",
    "})\n",
    "missing_df"
   ]
  },
  {
   "cell_type": "markdown",
   "id": "4ad25430",
   "metadata": {},
   "source": [
    "## 3. Data Cleaning"
   ]
  },
  {
   "cell_type": "code",
   "execution_count": null,
   "id": "9d36049c",
   "metadata": {},
   "outputs": [],
   "source": [
    "df['date'] = pd.to_datetime(df['date'])\n",
    "\n",
    "countries_of_interest = ['World', 'United States', 'India', 'Brazil', 'United Kingdom',\n",
    "                         'South Africa', 'Kenya', 'Australia', 'China', 'Germany']\n",
    "\n",
    "filtered_df = df[df['location'].isin(countries_of_interest)]\n",
    "\n",
    "latest_data = df.groupby('location').last().reset_index()\n",
    "latest_data = latest_data.sort_values('total_cases', ascending=False)\n",
    "\n",
    "filtered_df['case_fatality_rate'] = (filtered_df['total_deaths'] / filtered_df['total_cases']) * 100\n",
    "filtered_df['vaccination_rate'] = (filtered_df['people_fully_vaccinated'] / filtered_df['population']) * 100\n",
    "\n",
    "latest_data[['location', 'total_cases', 'total_deaths']].head(10)"
   ]
  }
 ],
 "metadata": {},
 "nbformat": 4,
 "nbformat_minor": 5
}